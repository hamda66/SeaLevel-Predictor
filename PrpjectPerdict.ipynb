{
 "cells": [
  {
   "cell_type": "code",
   "execution_count": null,
   "id": "3f507130",
   "metadata": {},
   "outputs": [],
   "source": [
    "import pandas as pd\n",
    "from neuralprophet import NeuralProphet\n",
    "from matplotlib import pyplot as plt\n",
    "import numpy as np\n",
    "import tensorflow as tf\n",
    "from tensorflow.keras import layers\n",
    "from tensorflow.keras.utils import plot_model\n",
    "import seaborn as sns\n",
    "import os\n",
    "os.environ['KMP_DUPLICATE_LIB_OK']='True'"
   ]
  },
  {
   "cell_type": "code",
   "execution_count": null,
   "id": "3ba8c92f",
   "metadata": {},
   "outputs": [],
   "source": [
    "df = pd.read_csv('austin_weather.csv')\n",
    "df.tail()"
   ]
  },
  {
   "cell_type": "code",
   "execution_count": null,
   "id": "2ea057f0",
   "metadata": {},
   "outputs": [],
   "source": [
    "sns.pairplot(df[['SeaLevelPressureAvgInches', 'TempAvgF', 'SeaLevelPressureHighInches', 'TempHighF']], diag_kind='kde')"
   ]
  },
  {
   "cell_type": "code",
   "execution_count": null,
   "id": "cff106f1",
   "metadata": {},
   "outputs": [],
   "source": [
    "df.Date.unique()"
   ]
  },
  {
   "cell_type": "code",
   "execution_count": null,
   "id": "957efe49",
   "metadata": {},
   "outputs": [],
   "source": [
    "df.columns"
   ]
  },
  {
   "cell_type": "code",
   "execution_count": null,
   "id": "fb0c599e",
   "metadata": {},
   "outputs": [],
   "source": [
    "df.dtypes"
   ]
  },
  {
   "cell_type": "code",
   "execution_count": null,
   "id": "3265b669",
   "metadata": {},
   "outputs": [],
   "source": [
    "df ['Date'] = pd.to_datetime(df ['Date'])\n",
    "df.tail()"
   ]
  },
  {
   "cell_type": "code",
   "execution_count": null,
   "id": "5d3248d2",
   "metadata": {},
   "outputs": [],
   "source": [
    "df.dtypes"
   ]
  },
  {
   "cell_type": "code",
   "execution_count": null,
   "id": "e0315484",
   "metadata": {},
   "outputs": [],
   "source": [
    "df = df.astype({'SeaLevelPressureAvgInches':'float'})\n",
    "print(df.dtypes)"
   ]
  },
  {
   "cell_type": "code",
   "execution_count": null,
   "id": "cbae75f2",
   "metadata": {},
   "outputs": [],
   "source": [
    "plt.plot(df ['SeaLevelPressureAvgInches'])\n",
    "plt.show()"
   ]
  },
  {
   "cell_type": "code",
   "execution_count": null,
   "id": "effa0505",
   "metadata": {},
   "outputs": [],
   "source": [
    "## Data and memory processing using Tensorflow"
   ]
  },
  {
   "cell_type": "code",
   "execution_count": null,
   "id": "e79a20de",
   "metadata": {},
   "outputs": [],
   "source": [
    "df_feat = df.copy()\n",
    "df_labels = df_feat.pop('SeaLevelPressureAvgInches')\n",
    "df_feat.pop('Date')"
   ]
  },
  {
   "cell_type": "code",
   "execution_count": null,
   "id": "fc37a777",
   "metadata": {},
   "outputs": [],
   "source": [
    "df_feat = np.asarray(df_feat).astype(np.float32)\n",
    "df_feat"
   ]
  },
  {
   "cell_type": "code",
   "execution_count": null,
   "id": "456a3b61",
   "metadata": {
    "scrolled": true
   },
   "outputs": [],
   "source": [
    "new_model = tf.keras.Sequential([\n",
    "  layers.Dense(100),\n",
    "  layers.Dense(3)\n",
    "])\n",
    "\n",
    "new_model.compile(loss = tf.keras.losses.MeanSquaredError(),\n",
    "                      optimizer = tf.optimizers.Adam())\n",
    "new_model.fit(df_feat, df_labels, epochs=10)"
   ]
  },
  {
   "cell_type": "code",
   "execution_count": null,
   "id": "b52612cf",
   "metadata": {},
   "outputs": [],
   "source": [
    "### Normalizing the data with Tensorflow"
   ]
  },
  {
   "cell_type": "code",
   "execution_count": null,
   "id": "3c717c6e",
   "metadata": {},
   "outputs": [],
   "source": [
    "train_dataset = df.copy()\n",
    "test_dataset = df.copy()"
   ]
  },
  {
   "cell_type": "code",
   "execution_count": null,
   "id": "2779c8d9",
   "metadata": {},
   "outputs": [],
   "source": [
    "train_features = train_dataset.copy()\n",
    "test_features = test_dataset.copy()\n",
    "train_features.pop('Date')\n",
    "train_labels = train_features.pop('SeaLevelPressureAvgInches')\n",
    "test_labels = test_features.pop('SeaLevelPressureAvgInches')"
   ]
  },
  {
   "cell_type": "code",
   "execution_count": null,
   "id": "6d6d2e27",
   "metadata": {},
   "outputs": [],
   "source": [
    "train_dataset.describe().transpose()[['mean', 'std']]"
   ]
  },
  {
   "cell_type": "code",
   "execution_count": null,
   "id": "e006c445",
   "metadata": {},
   "outputs": [],
   "source": [
    "normalizer = tf.keras.layers.Normalization(axis=-1)\n",
    "normalizer.adapt(np.array(train_features))\n",
    "print(normalizer.mean.numpy())"
   ]
  },
  {
   "cell_type": "code",
   "execution_count": null,
   "id": "33e2b7c1",
   "metadata": {},
   "outputs": [],
   "source": [
    "sealevel = np.array(train_features['SeaLevelPressureHighInches'])\n",
    "\n",
    "sealevel_normalizer = layers.Normalization(input_shape=[1,], axis=None)\n",
    "sealevel_normalizer.adapt(sealevel)\n",
    "\n",
    "sealevel_model = tf.keras.Sequential([\n",
    "    sealevel_normalizer,\n",
    "    layers.Dense(units=1)\n",
    "])\n",
    "\n",
    "sealevel_model.summary()"
   ]
  },
  {
   "cell_type": "code",
   "execution_count": null,
   "id": "079a9afb",
   "metadata": {},
   "outputs": [],
   "source": [
    "## Perdicting using tensorflow"
   ]
  },
  {
   "cell_type": "code",
   "execution_count": null,
   "id": "daab16e9",
   "metadata": {},
   "outputs": [],
   "source": [
    "sealevel_model.predict(sealevel[:200])\n",
    "fea = sealevel_model.predict(sealevel[:200]).copy()"
   ]
  },
  {
   "cell_type": "code",
   "execution_count": null,
   "id": "7473e187",
   "metadata": {},
   "outputs": [],
   "source": [
    "plt.plot(fea)\n",
    "plt.xlabel(\"Years\")\n",
    "plt.ylabel(\"Sea Level Inches\")"
   ]
  },
  {
   "cell_type": "code",
   "execution_count": null,
   "id": "24b02df6",
   "metadata": {},
   "outputs": [],
   "source": [
    "#### Below is for Training and perdicting the data using neural networks"
   ]
  },
  {
   "cell_type": "code",
   "execution_count": null,
   "id": "66127a01",
   "metadata": {},
   "outputs": [],
   "source": [
    "new_column = test_features[['Date', 'SeaLevelPressureLowInches']] \n",
    "new_column.dropna(inplace=True)\n",
    "new_column.columns = ['ds', 'y'] \n",
    "new_column.tail()"
   ]
  },
  {
   "cell_type": "code",
   "execution_count": null,
   "id": "f7146e58",
   "metadata": {},
   "outputs": [],
   "source": [
    "n = NeuralProphet()\n",
    "model = n.fit(new_column, freq='D')"
   ]
  },
  {
   "cell_type": "code",
   "execution_count": null,
   "id": "50a46da8",
   "metadata": {},
   "outputs": [],
   "source": [
    "future = n.make_future_dataframe(new_column, periods=200000)\n",
    "forecast = n.predict(future)\n",
    "forecast.tail()"
   ]
  },
  {
   "cell_type": "code",
   "execution_count": null,
   "id": "abf424f5",
   "metadata": {},
   "outputs": [],
   "source": [
    "plot = n.plot(forecast)"
   ]
  },
  {
   "cell_type": "code",
   "execution_count": null,
   "id": "05075d38",
   "metadata": {},
   "outputs": [],
   "source": []
  }
 ],
 "metadata": {
  "kernelspec": {
   "display_name": "Python 3 (ipykernel)",
   "language": "python",
   "name": "python3"
  },
  "language_info": {
   "codemirror_mode": {
    "name": "ipython",
    "version": 3
   },
   "file_extension": ".py",
   "mimetype": "text/x-python",
   "name": "python",
   "nbconvert_exporter": "python",
   "pygments_lexer": "ipython3",
   "version": "3.9.7"
  }
 },
 "nbformat": 4,
 "nbformat_minor": 5
}
